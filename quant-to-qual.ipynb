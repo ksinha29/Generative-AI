{
 "cells": [
  {
   "cell_type": "markdown",
   "metadata": {},
   "source": [
    "# Quantitative to Qualitative - Generative AI Demo\n",
    "\n",
    "This demo shows you how to use generative AI to explain a set of numbers. It is worth noting that token based analysis of numbers isn't always going to be accurate, equally for simple use cases it can be quite powerful in summarising datasets.\n",
    "\n",
    "Over time I imagine we will see far more use of this - especially when paired with OpenAI Function calling - as function calls can then be used to calculate and summarise large sets of data accurately - with generative AI doing the final \"explaining\" step.\n",
    "\n",
    "Either way, here's a simple example of first of all generating sample NPS data, and then seeing it explained.\n",
    "\n",
    "### Step 1\n",
    "Paste the text below into Azure AI chat."
   ]
  },
  {
   "cell_type": "markdown",
   "metadata": {},
   "source": [
    "Please create a sample dataset for me, of 100 NPS survey scores, separated by comma. They should each be 2 decimals long. The scores should start around 7, drop to 4 then finish around 8."
   ]
  },
  {
   "cell_type": "markdown",
   "metadata": {},
   "source": [
    "### Step 2\n",
    "Clear the chat, then paste the question below plus the dataset you generated above. Submit the question and see the response generated.\n",
    "\n",
    "Sample data is provided below if you just want to see what happens!"
   ]
  },
  {
   "cell_type": "markdown",
   "metadata": {},
   "source": [
    "I have the following NPS survey scores. Can you tell me what is happening with customer satisfaction?\n",
    "\n",
    "7.00, 6.95, 6.90, 6.85, 6.80, 6.75, 6.70, 6.65, 6.60, 6.55, 6.50, 6.45, 6.40, 6.35, 6.30, 6.25, 6.20, 6.15, 6.10, 6.05, 6.00, 5.95, 5.90, 5.85, 5.80, 5.75, 5.70, 5.65, 5.60, 5.55, 5.50, 5.45, 5.40, 5.35, 5.30, 5.25, 5.20, 5.15, 5.10, 5.05, 5.00, 4.95, 4.90, 4.85, 4.80, 4.75, 4.70, 4.65, 4.60, 4.55, 4.50, 4.45, 4.40, 4.35, 4.30, 4.25, 4.20, 4.15, 4.10, 4.05, 4.00, 4.05, 4.10, 4.15, 4.20, 4.25, 4.30, 4.35, 4.40, 4.45, 4.50, 4.55, 4.60, 4.65, 4.70, 4.75, 4.80, 4.85, 4.90, 4.95, 5.00, 5.05, 5.10, 5.15, 5.20, 5.25, 5.30, 5.35, 5.40, 5.45, 5.50, 5.55, 5.60, 5.65, 5.70, 5.75, 5.80, 5.85, 5.90, 5.95, 6.00, 6.05, 6.10, 6.15, 6.20, 6.25, 6.30, 6.35, 6.40, 6.45, 6.50, 6.55, 6.60, 6.65, 6.70, 6.75, 6.80, 6.85, 6.90, 6.95, 7.00, 7.05, 7.10, 7.15, 7.20, 7.25, 7.30, 7.35, 7.40, 7.45, 7.50, 7.55, 7.60, 7.65, 7.70, 7.75, 7.80, 7.85, 7.90, 7.95, 8.00"
   ]
  }
 ],
 "metadata": {
  "language_info": {
   "name": "python"
  }
 },
 "nbformat": 4,
 "nbformat_minor": 2
}
